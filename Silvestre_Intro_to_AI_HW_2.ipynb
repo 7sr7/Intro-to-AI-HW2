{
  "cells": [
    {
      "cell_type": "markdown",
      "metadata": {
        "id": "view-in-github",
        "colab_type": "text"
      },
      "source": [
        "<a href=\"https://colab.research.google.com/github/7sr7/Intro-to-AI-HW2/blob/main/Silvestre_Intro_to_AI_HW_2.ipynb\" target=\"_parent\"><img src=\"https://colab.research.google.com/assets/colab-badge.svg\" alt=\"Open In Colab\"/></a>"
      ]
    },
    {
      "cell_type": "markdown",
      "id": "9c6d738f-6aef-4c46-8e6f-e2d4f780a3d3",
      "metadata": {
        "id": "9c6d738f-6aef-4c46-8e6f-e2d4f780a3d3"
      },
      "source": [
        "# Part 1: KNN"
      ]
    },
    {
      "cell_type": "markdown",
      "id": "ddec027a-495d-4246-b53b-b77f52ec25b1",
      "metadata": {
        "id": "ddec027a-495d-4246-b53b-b77f52ec25b1"
      },
      "source": [
        "# HW2: K-Nearest Neighbors Classification (25 points)\n",
        "\n",
        "This notebook will guide you through:\n",
        "\n",
        "- Preparing and exploring the MNIST dataset\n",
        "- Computing simple features\n",
        "- Implementing a KNN classifier from scratch\n",
        "- Evaluating and analyzing your results\n"
      ]
    },
    {
      "cell_type": "code",
      "execution_count": 8,
      "id": "58fd4e1e-7891-4da1-895b-db96641d8362",
      "metadata": {
        "colab": {
          "base_uri": "https://localhost:8080/"
        },
        "id": "58fd4e1e-7891-4da1-895b-db96641d8362",
        "outputId": "3213a247-67dc-47df-d68b-503b2f76e0fb"
      },
      "outputs": [
        {
          "output_type": "stream",
          "name": "stdout",
          "text": [
            "Drive already mounted at /content/drive; to attempt to forcibly remount, call drive.mount(\"/content/drive\", force_remount=True).\n",
            "Images shape: (10000, 28, 28)\n",
            "Labels shape: (10000,)\n",
            "Label classes: [0 1 2 3 4 5 6 7 8 9]\n"
          ]
        }
      ],
      "source": [
        "import numpy as np\n",
        "import pandas as pd\n",
        "import collections\n",
        "import matplotlib.pyplot as plt\n",
        "from sklearn.preprocessing import MinMaxScaler\n",
        "import os\n",
        "import sys\n",
        "import warnings\n",
        "# Ignore all user warnings (including NumPy/SciPy compatibility)\n",
        "warnings.filterwarnings(\"ignore\", category=UserWarning)\n",
        "# Load Data\n",
        "try:\n",
        "  data = np.load(\"mnist_10k_trainval.npz\")\n",
        "except:\n",
        "  # i am using google colab to complete this assignment\n",
        "\n",
        "  # mounting to google drive...\n",
        "  from google.colab import drive\n",
        "  drive.mount('/content/drive')\n",
        "\n",
        "  data = np.load(\"/content/drive/MyDrive/mnist_10k_trainval.npz\")\n",
        "\n",
        "x_all = data[\"x\"]\n",
        "y_all = data[\"y\"]\n",
        "\n",
        "print(\"Images shape:\", x_all.shape)\n",
        "print(\"Labels shape:\", y_all.shape)\n",
        "print(\"Label classes:\", np.unique(y_all))\n"
      ]
    },
    {
      "cell_type": "markdown",
      "id": "3b321f08-4637-4f76-b34c-c4f10b5a8faf",
      "metadata": {
        "id": "3b321f08-4637-4f76-b34c-c4f10b5a8faf"
      },
      "source": [
        "---\n",
        "**Note:** Decide your own train/validation/testing split here. You must clearly document it.\n"
      ]
    },
    {
      "cell_type": "code",
      "execution_count": 53,
      "id": "0cd3bc12-a987-453e-91ac-5d85c28e7182",
      "metadata": {
        "id": "0cd3bc12-a987-453e-91ac-5d85c28e7182"
      },
      "outputs": [],
      "source": [
        "# TODO: Decide your split strategy here\n",
        "# Example: use the first 1000 for training, next 1000 for validation\n",
        "# You must document your choice.\n",
        "\n",
        "\n",
        "# we have a test set already, so we dont need to use this 10k dataset to split with\n",
        "# the test set in mind...\n",
        "\n",
        "# i would like to give \"ample\" data observation for the purpose of training\n",
        "# therefore, i am going with a 90 10 split for training and validation...\n",
        "\n",
        "# training split...\n",
        "x_train = x_all[:9000]\n",
        "y_train = y_all[:9000]\n",
        "\n",
        "# validation split...\n",
        "x_val = x_all[9000:]\n",
        "y_val = y_all[9000:]"
      ]
    },
    {
      "cell_type": "markdown",
      "id": "5dbeb656-020c-4498-b6ad-c07b676ace71",
      "metadata": {
        "id": "5dbeb656-020c-4498-b6ad-c07b676ace71"
      },
      "source": [
        "---\n",
        "## Preprocessing the Data\n",
        "Conduct any data manipulation you require to obtain the features dataframe (df_features in HW2_Starter).\n",
        "You must showcase at least 3 features for each image. You can add additional features if you wish.\n",
        "\n"
      ]
    },
    {
      "cell_type": "code",
      "execution_count": 3,
      "id": "9737dc38-7ad6-4374-be67-d80bec1d0cf0",
      "metadata": {
        "id": "9737dc38-7ad6-4374-be67-d80bec1d0cf0",
        "colab": {
          "base_uri": "https://localhost:8080/",
          "height": 206
        },
        "outputId": "647b0a5c-44e7-4117-e4af-48d96869b985"
      },
      "outputs": [
        {
          "output_type": "execute_result",
          "data": {
            "text/plain": [
              "   record_id  mean_intensity  std_intensity  threshold_count  nonzero_count  \\\n",
              "0          0       58.743622      98.097954              250            250   \n",
              "1          1       35.834184      81.001641              157            157   \n",
              "2          2       34.992347      78.202200              171            171   \n",
              "3          3       25.327806      70.768745              111            111   \n",
              "4          4       31.229592      77.376487              134            134   \n",
              "\n",
              "   label  \n",
              "0      8  \n",
              "1      4  \n",
              "2      8  \n",
              "3      7  \n",
              "4      7  "
            ],
            "text/html": [
              "\n",
              "  <div id=\"df-f0f0552a-99d6-4c3c-86ff-69deae0451c8\" class=\"colab-df-container\">\n",
              "    <div>\n",
              "<style scoped>\n",
              "    .dataframe tbody tr th:only-of-type {\n",
              "        vertical-align: middle;\n",
              "    }\n",
              "\n",
              "    .dataframe tbody tr th {\n",
              "        vertical-align: top;\n",
              "    }\n",
              "\n",
              "    .dataframe thead th {\n",
              "        text-align: right;\n",
              "    }\n",
              "</style>\n",
              "<table border=\"1\" class=\"dataframe\">\n",
              "  <thead>\n",
              "    <tr style=\"text-align: right;\">\n",
              "      <th></th>\n",
              "      <th>record_id</th>\n",
              "      <th>mean_intensity</th>\n",
              "      <th>std_intensity</th>\n",
              "      <th>threshold_count</th>\n",
              "      <th>nonzero_count</th>\n",
              "      <th>label</th>\n",
              "    </tr>\n",
              "  </thead>\n",
              "  <tbody>\n",
              "    <tr>\n",
              "      <th>0</th>\n",
              "      <td>0</td>\n",
              "      <td>58.743622</td>\n",
              "      <td>98.097954</td>\n",
              "      <td>250</td>\n",
              "      <td>250</td>\n",
              "      <td>8</td>\n",
              "    </tr>\n",
              "    <tr>\n",
              "      <th>1</th>\n",
              "      <td>1</td>\n",
              "      <td>35.834184</td>\n",
              "      <td>81.001641</td>\n",
              "      <td>157</td>\n",
              "      <td>157</td>\n",
              "      <td>4</td>\n",
              "    </tr>\n",
              "    <tr>\n",
              "      <th>2</th>\n",
              "      <td>2</td>\n",
              "      <td>34.992347</td>\n",
              "      <td>78.202200</td>\n",
              "      <td>171</td>\n",
              "      <td>171</td>\n",
              "      <td>8</td>\n",
              "    </tr>\n",
              "    <tr>\n",
              "      <th>3</th>\n",
              "      <td>3</td>\n",
              "      <td>25.327806</td>\n",
              "      <td>70.768745</td>\n",
              "      <td>111</td>\n",
              "      <td>111</td>\n",
              "      <td>7</td>\n",
              "    </tr>\n",
              "    <tr>\n",
              "      <th>4</th>\n",
              "      <td>4</td>\n",
              "      <td>31.229592</td>\n",
              "      <td>77.376487</td>\n",
              "      <td>134</td>\n",
              "      <td>134</td>\n",
              "      <td>7</td>\n",
              "    </tr>\n",
              "  </tbody>\n",
              "</table>\n",
              "</div>\n",
              "    <div class=\"colab-df-buttons\">\n",
              "\n",
              "  <div class=\"colab-df-container\">\n",
              "    <button class=\"colab-df-convert\" onclick=\"convertToInteractive('df-f0f0552a-99d6-4c3c-86ff-69deae0451c8')\"\n",
              "            title=\"Convert this dataframe to an interactive table.\"\n",
              "            style=\"display:none;\">\n",
              "\n",
              "  <svg xmlns=\"http://www.w3.org/2000/svg\" height=\"24px\" viewBox=\"0 -960 960 960\">\n",
              "    <path d=\"M120-120v-720h720v720H120Zm60-500h600v-160H180v160Zm220 220h160v-160H400v160Zm0 220h160v-160H400v160ZM180-400h160v-160H180v160Zm440 0h160v-160H620v160ZM180-180h160v-160H180v160Zm440 0h160v-160H620v160Z\"/>\n",
              "  </svg>\n",
              "    </button>\n",
              "\n",
              "  <style>\n",
              "    .colab-df-container {\n",
              "      display:flex;\n",
              "      gap: 12px;\n",
              "    }\n",
              "\n",
              "    .colab-df-convert {\n",
              "      background-color: #E8F0FE;\n",
              "      border: none;\n",
              "      border-radius: 50%;\n",
              "      cursor: pointer;\n",
              "      display: none;\n",
              "      fill: #1967D2;\n",
              "      height: 32px;\n",
              "      padding: 0 0 0 0;\n",
              "      width: 32px;\n",
              "    }\n",
              "\n",
              "    .colab-df-convert:hover {\n",
              "      background-color: #E2EBFA;\n",
              "      box-shadow: 0px 1px 2px rgba(60, 64, 67, 0.3), 0px 1px 3px 1px rgba(60, 64, 67, 0.15);\n",
              "      fill: #174EA6;\n",
              "    }\n",
              "\n",
              "    .colab-df-buttons div {\n",
              "      margin-bottom: 4px;\n",
              "    }\n",
              "\n",
              "    [theme=dark] .colab-df-convert {\n",
              "      background-color: #3B4455;\n",
              "      fill: #D2E3FC;\n",
              "    }\n",
              "\n",
              "    [theme=dark] .colab-df-convert:hover {\n",
              "      background-color: #434B5C;\n",
              "      box-shadow: 0px 1px 3px 1px rgba(0, 0, 0, 0.15);\n",
              "      filter: drop-shadow(0px 1px 2px rgba(0, 0, 0, 0.3));\n",
              "      fill: #FFFFFF;\n",
              "    }\n",
              "  </style>\n",
              "\n",
              "    <script>\n",
              "      const buttonEl =\n",
              "        document.querySelector('#df-f0f0552a-99d6-4c3c-86ff-69deae0451c8 button.colab-df-convert');\n",
              "      buttonEl.style.display =\n",
              "        google.colab.kernel.accessAllowed ? 'block' : 'none';\n",
              "\n",
              "      async function convertToInteractive(key) {\n",
              "        const element = document.querySelector('#df-f0f0552a-99d6-4c3c-86ff-69deae0451c8');\n",
              "        const dataTable =\n",
              "          await google.colab.kernel.invokeFunction('convertToInteractive',\n",
              "                                                    [key], {});\n",
              "        if (!dataTable) return;\n",
              "\n",
              "        const docLinkHtml = 'Like what you see? Visit the ' +\n",
              "          '<a target=\"_blank\" href=https://colab.research.google.com/notebooks/data_table.ipynb>data table notebook</a>'\n",
              "          + ' to learn more about interactive tables.';\n",
              "        element.innerHTML = '';\n",
              "        dataTable['output_type'] = 'display_data';\n",
              "        await google.colab.output.renderOutput(dataTable, element);\n",
              "        const docLink = document.createElement('div');\n",
              "        docLink.innerHTML = docLinkHtml;\n",
              "        element.appendChild(docLink);\n",
              "      }\n",
              "    </script>\n",
              "  </div>\n",
              "\n",
              "\n",
              "    <div id=\"df-d0a2eee0-4334-4d31-b100-94f629a796be\">\n",
              "      <button class=\"colab-df-quickchart\" onclick=\"quickchart('df-d0a2eee0-4334-4d31-b100-94f629a796be')\"\n",
              "                title=\"Suggest charts\"\n",
              "                style=\"display:none;\">\n",
              "\n",
              "<svg xmlns=\"http://www.w3.org/2000/svg\" height=\"24px\"viewBox=\"0 0 24 24\"\n",
              "     width=\"24px\">\n",
              "    <g>\n",
              "        <path d=\"M19 3H5c-1.1 0-2 .9-2 2v14c0 1.1.9 2 2 2h14c1.1 0 2-.9 2-2V5c0-1.1-.9-2-2-2zM9 17H7v-7h2v7zm4 0h-2V7h2v10zm4 0h-2v-4h2v4z\"/>\n",
              "    </g>\n",
              "</svg>\n",
              "      </button>\n",
              "\n",
              "<style>\n",
              "  .colab-df-quickchart {\n",
              "      --bg-color: #E8F0FE;\n",
              "      --fill-color: #1967D2;\n",
              "      --hover-bg-color: #E2EBFA;\n",
              "      --hover-fill-color: #174EA6;\n",
              "      --disabled-fill-color: #AAA;\n",
              "      --disabled-bg-color: #DDD;\n",
              "  }\n",
              "\n",
              "  [theme=dark] .colab-df-quickchart {\n",
              "      --bg-color: #3B4455;\n",
              "      --fill-color: #D2E3FC;\n",
              "      --hover-bg-color: #434B5C;\n",
              "      --hover-fill-color: #FFFFFF;\n",
              "      --disabled-bg-color: #3B4455;\n",
              "      --disabled-fill-color: #666;\n",
              "  }\n",
              "\n",
              "  .colab-df-quickchart {\n",
              "    background-color: var(--bg-color);\n",
              "    border: none;\n",
              "    border-radius: 50%;\n",
              "    cursor: pointer;\n",
              "    display: none;\n",
              "    fill: var(--fill-color);\n",
              "    height: 32px;\n",
              "    padding: 0;\n",
              "    width: 32px;\n",
              "  }\n",
              "\n",
              "  .colab-df-quickchart:hover {\n",
              "    background-color: var(--hover-bg-color);\n",
              "    box-shadow: 0 1px 2px rgba(60, 64, 67, 0.3), 0 1px 3px 1px rgba(60, 64, 67, 0.15);\n",
              "    fill: var(--button-hover-fill-color);\n",
              "  }\n",
              "\n",
              "  .colab-df-quickchart-complete:disabled,\n",
              "  .colab-df-quickchart-complete:disabled:hover {\n",
              "    background-color: var(--disabled-bg-color);\n",
              "    fill: var(--disabled-fill-color);\n",
              "    box-shadow: none;\n",
              "  }\n",
              "\n",
              "  .colab-df-spinner {\n",
              "    border: 2px solid var(--fill-color);\n",
              "    border-color: transparent;\n",
              "    border-bottom-color: var(--fill-color);\n",
              "    animation:\n",
              "      spin 1s steps(1) infinite;\n",
              "  }\n",
              "\n",
              "  @keyframes spin {\n",
              "    0% {\n",
              "      border-color: transparent;\n",
              "      border-bottom-color: var(--fill-color);\n",
              "      border-left-color: var(--fill-color);\n",
              "    }\n",
              "    20% {\n",
              "      border-color: transparent;\n",
              "      border-left-color: var(--fill-color);\n",
              "      border-top-color: var(--fill-color);\n",
              "    }\n",
              "    30% {\n",
              "      border-color: transparent;\n",
              "      border-left-color: var(--fill-color);\n",
              "      border-top-color: var(--fill-color);\n",
              "      border-right-color: var(--fill-color);\n",
              "    }\n",
              "    40% {\n",
              "      border-color: transparent;\n",
              "      border-right-color: var(--fill-color);\n",
              "      border-top-color: var(--fill-color);\n",
              "    }\n",
              "    60% {\n",
              "      border-color: transparent;\n",
              "      border-right-color: var(--fill-color);\n",
              "    }\n",
              "    80% {\n",
              "      border-color: transparent;\n",
              "      border-right-color: var(--fill-color);\n",
              "      border-bottom-color: var(--fill-color);\n",
              "    }\n",
              "    90% {\n",
              "      border-color: transparent;\n",
              "      border-bottom-color: var(--fill-color);\n",
              "    }\n",
              "  }\n",
              "</style>\n",
              "\n",
              "      <script>\n",
              "        async function quickchart(key) {\n",
              "          const quickchartButtonEl =\n",
              "            document.querySelector('#' + key + ' button');\n",
              "          quickchartButtonEl.disabled = true;  // To prevent multiple clicks.\n",
              "          quickchartButtonEl.classList.add('colab-df-spinner');\n",
              "          try {\n",
              "            const charts = await google.colab.kernel.invokeFunction(\n",
              "                'suggestCharts', [key], {});\n",
              "          } catch (error) {\n",
              "            console.error('Error during call to suggestCharts:', error);\n",
              "          }\n",
              "          quickchartButtonEl.classList.remove('colab-df-spinner');\n",
              "          quickchartButtonEl.classList.add('colab-df-quickchart-complete');\n",
              "        }\n",
              "        (() => {\n",
              "          let quickchartButtonEl =\n",
              "            document.querySelector('#df-d0a2eee0-4334-4d31-b100-94f629a796be button');\n",
              "          quickchartButtonEl.style.display =\n",
              "            google.colab.kernel.accessAllowed ? 'block' : 'none';\n",
              "        })();\n",
              "      </script>\n",
              "    </div>\n",
              "\n",
              "    </div>\n",
              "  </div>\n"
            ],
            "application/vnd.google.colaboratory.intrinsic+json": {
              "type": "dataframe",
              "variable_name": "df_features",
              "summary": "{\n  \"name\": \"df_features\",\n  \"rows\": 9000,\n  \"fields\": [\n    {\n      \"column\": \"record_id\",\n      \"properties\": {\n        \"dtype\": \"number\",\n        \"std\": 2598,\n        \"min\": 0,\n        \"max\": 8999,\n        \"num_unique_values\": 9000,\n        \"samples\": [\n          7940,\n          1162,\n          582\n        ],\n        \"semantic_type\": \"\",\n        \"description\": \"\"\n      }\n    },\n    {\n      \"column\": \"mean_intensity\",\n      \"properties\": {\n        \"dtype\": \"number\",\n        \"std\": 11.05632472546643,\n        \"min\": 7.924744897959184,\n        \"max\": 101.3813775510204,\n        \"num_unique_values\": 7805,\n        \"samples\": [\n          63.91581632653061,\n          39.17474489795919,\n          51.044642857142854\n        ],\n        \"semantic_type\": \"\",\n        \"description\": \"\"\n      }\n    },\n    {\n      \"column\": \"std_intensity\",\n      \"properties\": {\n        \"dtype\": \"number\",\n        \"std\": 12.136254039234984,\n        \"min\": 37.45256648840099,\n        \"max\": 119.15977616312145,\n        \"num_unique_values\": 9000,\n        \"samples\": [\n          78.63812194588093,\n          47.898691207217,\n          92.0715512383068\n        ],\n        \"semantic_type\": \"\",\n        \"description\": \"\"\n      }\n    },\n    {\n      \"column\": \"threshold_count\",\n      \"properties\": {\n        \"dtype\": \"number\",\n        \"std\": 41,\n        \"min\": 43,\n        \"max\": 351,\n        \"num_unique_values\": 238,\n        \"samples\": [\n          169,\n          129,\n          65\n        ],\n        \"semantic_type\": \"\",\n        \"description\": \"\"\n      }\n    },\n    {\n      \"column\": \"nonzero_count\",\n      \"properties\": {\n        \"dtype\": \"number\",\n        \"std\": 41,\n        \"min\": 43,\n        \"max\": 351,\n        \"num_unique_values\": 238,\n        \"samples\": [\n          169,\n          129,\n          65\n        ],\n        \"semantic_type\": \"\",\n        \"description\": \"\"\n      }\n    },\n    {\n      \"column\": \"label\",\n      \"properties\": {\n        \"dtype\": \"number\",\n        \"std\": 2,\n        \"min\": 0,\n        \"max\": 9,\n        \"num_unique_values\": 10,\n        \"samples\": [\n          5,\n          4,\n          2\n        ],\n        \"semantic_type\": \"\",\n        \"description\": \"\"\n      }\n    }\n  ]\n}"
            }
          },
          "metadata": {},
          "execution_count": 3
        }
      ],
      "source": [
        "# # TODO: Preprocess the data and create your features DataFrame\n",
        "# # You must compute at least 3 features per image and combine them with the labels.\n",
        "\n",
        "\n",
        "# # preprocessing -- flattening image data and normalizing pixels...\n",
        "# # Flatten: (28,28) -> (784,)\n",
        "# x_train_flat = x_train.reshape(len(x_train), -1)\n",
        "# x_val_flat = x_val.reshape(len(x_val), -1)\n",
        "\n",
        "# # Normalize to [0,1]\n",
        "# x_train_norm = x_train_flat / 255.0\n",
        "# x_val_norm = x_val_flat / 255.0\n",
        "\n",
        "\n",
        "# # feature extraction...\n",
        "# # Count of pixels > 0.5\n",
        "# threshold_counts = (x_train_flat > 0.5).sum(axis=1)\n",
        "\n",
        "# # Mean pixel intensity per image\n",
        "# mean_intensity = x_train_flat.mean(axis=1)\n",
        "\n",
        "# # Standard deviation of pixel intensity per image\n",
        "# std_intensity = x_train_flat.std(axis=1)\n",
        "\n",
        "# # count of how many nonzero pixels there are\n",
        "# nonzero_counts = (x_train_flat > 0).sum(axis=1)\n",
        "\n",
        "# # creating features DataFrame...\n",
        "# df_features = pd.DataFrame({\n",
        "#   \"record_id\": np.arange(len(x_train)),\n",
        "#   # \"img_data\": x_train_norm,\n",
        "#   \"mean_intensity\": mean_intensity,\n",
        "#   \"std_intensity\": std_intensity,\n",
        "#   \"threshold_count\": threshold_counts,\n",
        "#   \"nonzero_count\": nonzero_counts,\n",
        "#   \"label\": y_train\n",
        "# })\n",
        "\n",
        "# df_features.head(5)"
      ]
    },
    {
      "cell_type": "code",
      "source": [
        "from sklearn.neighbors import KNeighborsClassifier\n",
        "from sklearn.metrics import accuracy_score\n",
        "\n",
        "x_train_flat = x_train.reshape(len(x_train), -1)\n",
        "x_val_flat = x_val.reshape(len(x_val), -1)\n",
        "\n",
        "\n",
        "# Normalize to [0,1]\n",
        "x_train_norm = x_train_flat / 255.0\n",
        "x_val_norm = x_val_flat / 255.0\n",
        "\n",
        "\n",
        "\n",
        "\n",
        "\n",
        "knn = KNeighborsClassifier(n_neighbors=5)\n",
        "knn.fit(x_train_norm, y_train)\n",
        "y_pred = knn.predict(x_val_norm)\n",
        "print(\"Sklearn accuracy:\", accuracy_score(y_val, y_pred))"
      ],
      "metadata": {
        "colab": {
          "base_uri": "https://localhost:8080/"
        },
        "id": "t2xn7B0s9hIT",
        "outputId": "b13d6a89-53bd-4331-bd0f-76172815aefe"
      },
      "id": "t2xn7B0s9hIT",
      "execution_count": 139,
      "outputs": [
        {
          "output_type": "stream",
          "name": "stdout",
          "text": [
            "Sklearn accuracy: 0.941\n"
          ]
        }
      ]
    },
    {
      "cell_type": "code",
      "source": [],
      "metadata": {
        "id": "-EpMqbdL9_4s"
      },
      "id": "-EpMqbdL9_4s",
      "execution_count": null,
      "outputs": []
    },
    {
      "cell_type": "code",
      "source": [
        "# Example function stub, feel free to edit it in any shape or form outside of the function name\n",
        "def knn_predictor(x_train, y_train, x_test, k):\n",
        "  # x_train = np.array(x_train)\n",
        "  # y_train = np.array(y_train)\n",
        "  # x_test = np.array(x_test)\n",
        "\n",
        "  # x_trainVals = x_train.values\n",
        "  # y_trainVals = y_train.values\n",
        "  # x_testVals = x_test.values\n",
        "\n",
        "  # x_trainVals = x_train.to_numpy()\n",
        "  # x_testVals = x_test.to_numpy()\n",
        "\n",
        "\n",
        "  # print(x_trainVals)\n",
        "  # sys.exit(1)\n",
        "\n",
        "  print(\"here\")\n",
        "  #Implement KNN here\n",
        "\n",
        "  allPredictions = []\n",
        "\n",
        "  for i in x_test:\n",
        "    distances = []\n",
        "\n",
        "    # Compute Euclidean distances to all training points\n",
        "    # distances = np.linalg.norm(x_test - i, axis=1)\n",
        "    distances = np.linalg.norm(i - x_train, axis=1)  # for each val point x_val\n",
        "\n",
        "\n",
        "    # distances = np.sqrt(  ((x_test - i) ** 2).sum(axis=1))\n",
        "\n",
        "    # distances = np.sqrt(((x_test[:, np.newaxis, :] - x_train[np.newaxis, :, :]) ** 2).sum(axis=2))\n",
        "\n",
        "    # Get indices of k nearest neighbors\n",
        "    neighInd = np.argsort(distances)[:k]\n",
        "\n",
        "    # Get their labels\n",
        "    neighLabels = y_train[neighInd]\n",
        "\n",
        "    # Majority vote\n",
        "    allLabels = {}\n",
        "    maxCandidates = []\n",
        "\n",
        "    if False:\n",
        "      majorityLabel = -1\n",
        "      majorityCount = -1\n",
        "\n",
        "      for label in neighLabels:\n",
        "        if (label in allLabels):\n",
        "          allLabels[label] += 1\n",
        "        else:\n",
        "          allLabels[label] = 1\n",
        "\n",
        "          if (allLabels[label] > majorityCount):\n",
        "            majorityCount = allLabels[label]\n",
        "            majorityLabel = label\n",
        "\n",
        "      # for breaking ties...\n",
        "      for label, count in allLabels.items():\n",
        "        if (count == majorityCount):\n",
        "          maxCandidates.append(label)\n",
        "\n",
        "      if (len(maxCandidates) > 1):\n",
        "        majorityLabel = min(maxCandidates)\n",
        "\n",
        "    else:\n",
        "      most_common = collections.Counter(neighLabels).most_common(1)[0][0]\n",
        "\n",
        "      # most_common_label = allLabels.most_common(1)[0][0]\n",
        "      majorityLabel = most_common\n",
        "\n",
        "    allPredictions.append(majorityLabel)\n",
        "\n",
        "  #Compute Distances, determine nearest neighbors, vote for class of sample\n",
        "  return np.array(allPredictions)\n"
      ],
      "metadata": {
        "id": "oY9Tb-PY970o"
      },
      "id": "oY9Tb-PY970o",
      "execution_count": 141,
      "outputs": []
    },
    {
      "cell_type": "code",
      "source": [
        "# TODO: Evaluate accuracy for different k values\n",
        "\n",
        "kVals = [2 * i + 1 for i in range(5)]\n",
        "# print(kVals)\n",
        "\n",
        "# sys.exit(1)\n",
        "\n",
        "accuracies = {} # Store your accuracies in a dictionary so you can easily compare them later.\n",
        "# numCorrect = 0\n",
        "# total = 0\n",
        "\n",
        "# print(x_train_norm.shape)\n",
        "# print(x_val_norm.shape)\n",
        "\n",
        "# print(y_train.shape)\n",
        "# sys.exit(1)\n",
        "\n",
        "\n",
        "\n",
        "# print(df_featuresTrainNorm.head())\n",
        "# print(df_featuresValNorm.head())\n",
        "\n",
        "# print(df_featuresVal.shape)\n",
        "\n",
        "# x_train = np.array(df_featuresTrain)\n",
        "# print(x_train.shape)\n",
        "\n",
        "for k in kVals:\n",
        "#   print(\"here...\")\n",
        "  # returns array of all predicted classifications, where the \"test\" point is each validation pt...\n",
        "\n",
        "  # preds = knn_predictor(x_train_norm[:1000], y_train[:1000], x_val_norm[:1000], k)\n",
        "  preds = knn_predictor(x_train_norm[:1000], y_train[:1000], x_val_norm[:1000], k)\n",
        "\n",
        "#   preds = knn_predictor(df_featuresTrain, y_train, df_featuresVal, k)\n",
        "  correct = (preds == y_val[:1000])\n",
        "  accuracy = np.mean(correct)\n",
        "  accuracies[k] = accuracy\n",
        "\n",
        "#   # print(correct)\n",
        "  print(f\"k = {k}, accuracy = {accuracy:.4f}\")\n"
      ],
      "metadata": {
        "colab": {
          "base_uri": "https://localhost:8080/"
        },
        "id": "Xtkk-Rmb-Ark",
        "outputId": "06633d07-b06b-4f6f-aa00-9ecca1f23e9d"
      },
      "id": "Xtkk-Rmb-Ark",
      "execution_count": 142,
      "outputs": [
        {
          "output_type": "stream",
          "name": "stdout",
          "text": [
            "here\n",
            "k = 1, accuracy = 0.8840\n",
            "here\n",
            "k = 3, accuracy = 0.8860\n",
            "here\n",
            "k = 5, accuracy = 0.8880\n",
            "here\n",
            "k = 7, accuracy = 0.8840\n",
            "here\n",
            "k = 9, accuracy = 0.8750\n"
          ]
        }
      ]
    },
    {
      "cell_type": "code",
      "source": [
        "# TODO: Preprocess the data and create your features DataFrame\n",
        "# You must compute at least 3 features per image and combine them with the labels.\n",
        "\n",
        "\n",
        "# preprocessing -- flattening image data and normalizing pixels...\n",
        "# Flatten: (28,28) -> (784,)\n",
        "x_train_flat = x_train.reshape(len(x_train), -1)\n",
        "x_val_flat = x_val.reshape(len(x_val), -1)\n",
        "\n",
        "\n",
        "\n",
        "\n",
        "\n",
        "# Normalize to [0,1]\n",
        "x_train_norm = x_train_flat / 255.0\n",
        "x_val_norm = x_val_flat / 255.0\n",
        "\n",
        "\n",
        "\n",
        "\n",
        "\n",
        "\n",
        "# feature extraction...\n",
        "# Count of pixels > 0.5\n",
        "threshold_countsTrain = (x_train_flat > 0.5).sum(axis=1)\n",
        "threshold_countsVal = (x_val_flat > 0.5).sum(axis=1)\n",
        "\n",
        "# Mean pixel intensity per image\n",
        "mean_intensityTrain = x_train_flat.mean(axis=1)\n",
        "mean_intensityVal = x_val_flat.mean(axis=1)\n",
        "\n",
        "# Standard deviation of pixel intensity per image\n",
        "std_intensityTrain = x_train_flat.std(axis=1)\n",
        "std_intensityVal = x_val_flat.std(axis=1)\n",
        "\n",
        "# count of how many nonzero pixels there are\n",
        "nonzero_countsTrain = (x_train_flat > 0).sum(axis=1)\n",
        "nonzero_countsVal = (x_val_flat > 0).sum(axis=1)\n",
        "\n",
        "# getting number of pixels in each of the 4 quadrants...\n",
        "# top_left = img[:14, :14].sum()\n",
        "# top_right = img[:14, 14:].sum()\n",
        "# bottom_left = img[14:, :14].sum()\n",
        "# bottom_right = img[14:, 14:].sum()\n",
        "\n",
        "\n",
        "print(x_train.shape)\n",
        "def extract_quadrant_features(images):  # shape: (N, 28, 28)\n",
        "    features = []\n",
        "    for img in images:\n",
        "        q1 = img[:14, :14].sum()\n",
        "        q2 = img[:14, 14:].sum()\n",
        "        q3 = img[14:, :14].sum()\n",
        "        q4 = img[14:, 14:].sum()\n",
        "        features.append([q1, q2, q3, q4])\n",
        "    return np.array(features)  # shape: (N, 4)\n",
        "\n",
        "allQuadsTrain = extract_quadrant_features(x_train)\n",
        "allQuadsVal = extract_quadrant_features(x_val)\n",
        "\n",
        "\n",
        "from scipy.ndimage import center_of_mass\n",
        "\n",
        "# img must be shape (28, 28)\n",
        "def getCOM(imgs):\n",
        "  features = []\n",
        "\n",
        "  for img in imgs:\n",
        "    com_y, com_x = center_of_mass(img)  # returns (row, col) = (y, x)\n",
        "    features.append([com_y, com_x])\n",
        "\n",
        "  return np.array(features)  # shape: (N, 2)\n",
        "\n",
        "allCOMTrain = getCOM(x_train)\n",
        "allCOMVal = getCOM(x_val)\n",
        "\n",
        "\n",
        "def getImgSymmetry(imgs):\n",
        "  features = []\n",
        "\n",
        "  for img in imgs:\n",
        "    if False:\n",
        "      top = img[:14, :]\n",
        "      bottom = np.flipud(img[14:, :])\n",
        "      horiz_symmetry = -np.abs(top - bottom).sum()  # lower = more symmetric\n",
        "\n",
        "\n",
        "      left = img[:, :14]\n",
        "      right = np.fliplr(img[:, 14:])\n",
        "      vert_symmetry = -np.abs(left - right).sum()\n",
        "\n",
        "    else:\n",
        "      top = img[:14, :].astype(np.int16)\n",
        "      bottom = np.flipud(img[14:, :]).astype(np.int16)\n",
        "      horiz_symmetry = -np.abs(top - bottom).sum()\n",
        "\n",
        "      left = img[:, :14].astype(np.int16)\n",
        "      right = np.fliplr(img[:, 14:]).astype(np.int16)\n",
        "      vert_symmetry = -np.abs(left - right).sum()\n",
        "\n",
        "\n",
        "    features.append([horiz_symmetry, vert_symmetry])\n",
        "\n",
        "  return np.array(features)  # shape: (N, 2)\n",
        "\n",
        "allSymmetryTrain = getImgSymmetry(x_train)\n",
        "allSymmetryVal = getImgSymmetry(x_val)\n",
        "\n",
        "# print(allCOMTrain)\n",
        "# print(allCOMVal)\n",
        "# sys.exit(1)\n",
        "\n",
        "# print(allQuads)\n",
        "\n",
        "\n",
        "def getImgIntensity(imgs):\n",
        "  features = []\n",
        "  for img in imgs:\n",
        "    row_profile = img.sum(axis=1)   # vertical scan\n",
        "    col_profile = img.sum(axis=0)   # horizontal scan\n",
        "\n",
        "    features.append([row_profile.mean(), col_profile.mean()])\n",
        "\n",
        "  return np.array(features)  # shape: (N, 2)\n",
        "\n",
        "\n",
        "allIntensityTrain = getImgIntensity(x_train)\n",
        "allIntensityVal = getImgIntensity(x_val)\n",
        "\n",
        "# creating features DataFrame...\n",
        "df_featuresTrain = pd.DataFrame({\n",
        "  # \"record_id\": np.arange(len(x_train)),\n",
        "  # \"img_data\": x_train_norm,\n",
        "  \"mean_intensity\": mean_intensityTrain,\n",
        "  \"std_intensity\": std_intensityTrain,\n",
        "  \"threshold_count\": threshold_countsTrain,\n",
        "  \"nonzero_count\": nonzero_countsTrain,\n",
        "  \"q1\": allQuadsTrain[:, 0],\n",
        "  \"q2\": allQuadsTrain[:, 1],\n",
        "  \"q3\": allQuadsTrain[:, 2],\n",
        "  \"q4\": allQuadsTrain[:, 3],\n",
        "  \"com_y\": allCOMTrain[:, 0],\n",
        "  \"com_x\": allCOMTrain[:, 1],\n",
        "  \"symmetry_h\": allSymmetryTrain[:, 0],\n",
        "  \"symmetry_v\": allSymmetryTrain[:, 1],\n",
        "  \"rowIntensity\": allIntensityTrain[:, 0],\n",
        "  \"colIntensity\": allIntensityTrain[:, 1],\n",
        "})\n",
        "\n",
        "\n",
        "df_featuresVal = pd.DataFrame({\n",
        "  \"mean_intensity\": mean_intensityVal,\n",
        "  \"std_intensity\": std_intensityVal,\n",
        "  \"threshold_count\": threshold_countsVal,\n",
        "  \"nonzero_count\": nonzero_countsVal,\n",
        "  \"q1\": allQuadsVal[:, 0],\n",
        "  \"q2\": allQuadsVal[:, 1],\n",
        "  \"q3\": allQuadsVal[:, 2],\n",
        "  \"q4\": allQuadsVal[:, 3],\n",
        "  \"com_y\": allCOMVal[:, 0],\n",
        "  \"com_x\": allCOMVal[:, 1],\n",
        "  \"symmetry_h\": allSymmetryVal[:, 0],\n",
        "  \"symmetry_v\": allSymmetryVal[:, 1],\n",
        "  \"rowIntensity\": allIntensityVal[:, 0],\n",
        "  \"colIntensity\": allIntensityVal[:, 1],\n",
        "})\n",
        "\n",
        "\n",
        "print(df_featuresTrain.head(5))"
      ],
      "metadata": {
        "colab": {
          "base_uri": "https://localhost:8080/"
        },
        "id": "ot-eC10uMVtn",
        "outputId": "57e91b6a-748a-4f4e-b5e4-b1d58fab2e3b"
      },
      "id": "ot-eC10uMVtn",
      "execution_count": 133,
      "outputs": [
        {
          "output_type": "stream",
          "name": "stdout",
          "text": [
            "(9000, 28, 28)\n",
            "   mean_intensity  std_intensity  threshold_count  nonzero_count    q1     q2  \\\n",
            "0       58.743622      98.097954              250            250  9445  13827   \n",
            "1       35.834184      81.001641              157            157  6810   6598   \n",
            "2       34.992347      78.202200              171            171  8699   4784   \n",
            "3       25.327806      70.768745              111            111  4011   5550   \n",
            "4       31.229592      77.376487              134            134  4998   9298   \n",
            "\n",
            "      q3     q4      com_y      com_x  symmetry_h  symmetry_v  rowIntensity  \\\n",
            "0  12265  10518  13.813918  14.103224      -19285      -17943   1644.821429   \n",
            "1   3848  10838  13.886488  14.304335      -15336      -10632   1003.357143   \n",
            "2   4526   9425  14.289896  13.928410      -19112      -18454    979.785714   \n",
            "3   4215   6081  14.371960  14.048849      -10017      -12081    709.178571   \n",
            "4   5386   4802  13.594429  14.235174      -14744      -13362    874.428571   \n",
            "\n",
            "   colIntensity  \n",
            "0   1644.821429  \n",
            "1   1003.357143  \n",
            "2    979.785714  \n",
            "3    709.178571  \n",
            "4    874.428571  \n"
          ]
        }
      ]
    },
    {
      "cell_type": "code",
      "source": [
        "# normalizing the features... (for both training and validation)\n",
        "scaler = MinMaxScaler()\n",
        "normalizedTrain = scaler.fit_transform(df_featuresTrain)\n",
        "normalizedVal = scaler.fit_transform(df_featuresVal)\n",
        "\n",
        "df_featuresTrainNorm = pd.DataFrame(normalizedTrain, columns=df_featuresTrain.columns)\n",
        "df_featuresValNorm = pd.DataFrame(normalizedVal, columns=df_featuresVal.columns)\n",
        "\n",
        "print(df_featuresTrainNorm.head(5))"
      ],
      "metadata": {
        "colab": {
          "base_uri": "https://localhost:8080/"
        },
        "id": "CUFQEUNPJ3MU",
        "outputId": "ed1a0d50-464e-48d8-b783-2cc2b698e0e6"
      },
      "id": "CUFQEUNPJ3MU",
      "execution_count": 134,
      "outputs": [
        {
          "output_type": "stream",
          "name": "stdout",
          "text": [
            "   mean_intensity  std_intensity  threshold_count  nonzero_count        q1  \\\n",
            "0        0.543770       0.742228         0.672078       0.672078  0.513427   \n",
            "1        0.298635       0.532989         0.370130       0.370130  0.370189   \n",
            "2        0.289627       0.498728         0.415584       0.415584  0.472875   \n",
            "3        0.186215       0.407751         0.220779       0.220779  0.218037   \n",
            "4        0.249365       0.488622         0.295455       0.295455  0.271689   \n",
            "\n",
            "         q2        q3        q4     com_y     com_x  symmetry_h  symmetry_v  \\\n",
            "0  0.662403  0.630818  0.445602  0.313912  0.603167    0.490171    0.442925   \n",
            "1  0.316087  0.197912  0.459159  0.386485  0.804350    0.596808    0.686804   \n",
            "2  0.229185  0.232783  0.399297  0.789914  0.428289    0.494842    0.425879   \n",
            "3  0.265881  0.216788  0.257626  0.871982  0.548772    0.740441    0.638468   \n",
            "4  0.445435  0.277015  0.203440  0.094411  0.735164    0.612794    0.595737   \n",
            "\n",
            "   rowIntensity  colIntensity  \n",
            "0      0.543770      0.543770  \n",
            "1      0.298635      0.298635  \n",
            "2      0.289627      0.289627  \n",
            "3      0.186215      0.186215  \n",
            "4      0.249365      0.249365  \n"
          ]
        }
      ]
    },
    {
      "cell_type": "markdown",
      "id": "9dcfbed6-381c-491d-94e4-6ea749f32540",
      "metadata": {
        "id": "9dcfbed6-381c-491d-94e4-6ea749f32540"
      },
      "source": [
        "---\n",
        "## KNN Classifier\n",
        "\n",
        "Implement your KNN classifier here.\n"
      ]
    },
    {
      "cell_type": "code",
      "execution_count": 132,
      "id": "0f9d077f-48a3-49ed-90eb-081768242e6c",
      "metadata": {
        "id": "0f9d077f-48a3-49ed-90eb-081768242e6c"
      },
      "outputs": [],
      "source": [
        "# Example function stub, feel free to edit it in any shape or form outside of the function name\n",
        "def knn_predictor(x_train, y_train, x_test, k):\n",
        "  # x_train = np.array(x_train)\n",
        "  # y_train = np.array(y_train)\n",
        "  # x_test = np.array(x_test)\n",
        "\n",
        "  # x_trainVals = x_train.values\n",
        "  # y_trainVals = y_train.values\n",
        "  # x_testVals = x_test.values\n",
        "\n",
        "  x_trainVals = x_train.to_numpy()\n",
        "  x_testVals = x_test.to_numpy()\n",
        "\n",
        "\n",
        "  # print(x_trainVals)\n",
        "  # sys.exit(1)\n",
        "\n",
        "  print(\"here\")\n",
        "  #Implement KNN here\n",
        "\n",
        "  allPredictions = []\n",
        "\n",
        "  for i in x_testVals:\n",
        "    distances = []\n",
        "\n",
        "    # Compute Euclidean distances to all training points\n",
        "    # distances = np.linalg.norm(x_test - i, axis=1)\n",
        "    distances = np.linalg.norm(i - x_trainVals, axis=1)  # for each val point x_val\n",
        "\n",
        "\n",
        "    # distances = np.sqrt(  ((x_test - i) ** 2).sum(axis=1))\n",
        "\n",
        "    # distances = np.sqrt(((x_test[:, np.newaxis, :] - x_train[np.newaxis, :, :]) ** 2).sum(axis=2))\n",
        "\n",
        "    # Get indices of k nearest neighbors\n",
        "    neighInd = np.argsort(distances)[:k]\n",
        "\n",
        "    # Get their labels\n",
        "    neighLabels = y_train[neighInd]\n",
        "\n",
        "    # Majority vote\n",
        "    allLabels = {}\n",
        "    maxCandidates = []\n",
        "\n",
        "    if False:\n",
        "      majorityLabel = -1\n",
        "      majorityCount = -1\n",
        "\n",
        "      for label in neighLabels:\n",
        "        if (label in allLabels):\n",
        "          allLabels[label] += 1\n",
        "        else:\n",
        "          allLabels[label] = 1\n",
        "\n",
        "          if (allLabels[label] > majorityCount):\n",
        "            majorityCount = allLabels[label]\n",
        "            majorityLabel = label\n",
        "\n",
        "      # for breaking ties...\n",
        "      for label, count in allLabels.items():\n",
        "        if (count == majorityCount):\n",
        "          maxCandidates.append(label)\n",
        "\n",
        "      if (len(maxCandidates) > 1):\n",
        "        majorityLabel = min(maxCandidates)\n",
        "\n",
        "    else:\n",
        "      most_common = collections.Counter(neighLabels).most_common(1)[0][0]\n",
        "\n",
        "      # most_common_label = allLabels.most_common(1)[0][0]\n",
        "      majorityLabel = most_common\n",
        "\n",
        "    allPredictions.append(majorityLabel)\n",
        "\n",
        "  #Compute Distances, determine nearest neighbors, vote for class of sample\n",
        "  return np.array(allPredictions)\n"
      ]
    },
    {
      "cell_type": "code",
      "source": [
        "# from statsmodels.stats.outliers_influence import variance_inflation_factor\n",
        "# import pandas as pd\n",
        "\n",
        "# vif_data = pd.DataFrame()\n",
        "# vif_data[\"feature\"] = df_featuresTrainNorm.columns\n",
        "# vif_data[\"VIF\"] = [variance_inflation_factor(df_featuresTrainNorm.values, i) for i in range(df_featuresTrainNorm.shape[1])]\n",
        "# print(vif_data)\n",
        "\n",
        "# for i in vif_data.index:\n",
        "#   # dropping all columns with VIF over 100 just since I feared that if I ruled out based on VIF >= 10, then I wouldn't be left with many features...\n",
        "#   if vif_data['VIF'][i] >= 100:\n",
        "#     # print(vif_data['feature'][i])\n",
        "#     df_featuresTrainNorm = df_featuresTrainNorm.drop(columns = [vif_data['feature'][i]], axis = 1)\n",
        "\n",
        "\n",
        "# vif_data = pd.DataFrame()\n",
        "# vif_data[\"feature\"] = df_featuresValNorm.columns\n",
        "# vif_data[\"VIF\"] = [variance_inflation_factor(df_featuresValNorm.values, i) for i in range(df_featuresValNorm.shape[1])]\n",
        "# print(vif_data)\n",
        "\n",
        "# for i in vif_data.index:\n",
        "#   # dropping all columns with VIF over 100 just since I feared that if I ruled out based on VIF >= 10, then I wouldn't be left with many features...\n",
        "#   if vif_data['VIF'][i] >= 100:\n",
        "#     # print(vif_data['feature'][i])\n",
        "#     df_featuresValNorm = df_featuresValNorm.drop(columns = [vif_data['feature'][i]], axis = 1)\n",
        "\n",
        "\n",
        "\n",
        "\n",
        "# print(df_featuresTrainNorm.shape)\n",
        "\n",
        "# print(df_featuresValNorm.shape)\n",
        "\n",
        "# # print(df_featuresTrainNorm.head())\n",
        "# # print(df_featuresValNorm.head())"
      ],
      "metadata": {
        "colab": {
          "base_uri": "https://localhost:8080/"
        },
        "id": "N6RJrfKZxvIs",
        "outputId": "b07f95c9-322f-4ef1-f996-d7204f766d16"
      },
      "id": "N6RJrfKZxvIs",
      "execution_count": 130,
      "outputs": [
        {
          "output_type": "stream",
          "name": "stdout",
          "text": [
            "         feature        VIF\n",
            "0  std_intensity   5.701440\n",
            "1          com_y   3.774321\n",
            "2          com_x   3.937518\n",
            "3     symmetry_h  38.474898\n",
            "4     symmetry_v  35.994534\n",
            "         feature        VIF\n",
            "0  std_intensity   4.693542\n",
            "1          com_y   3.955977\n",
            "2          com_x   3.738027\n",
            "3     symmetry_h  24.155346\n",
            "4     symmetry_v  27.220765\n",
            "(9000, 5)\n",
            "(1000, 5)\n"
          ]
        }
      ]
    },
    {
      "cell_type": "markdown",
      "id": "f8cc4809-8f80-4a8d-add7-602413f79dfa",
      "metadata": {
        "id": "f8cc4809-8f80-4a8d-add7-602413f79dfa"
      },
      "source": [
        "---\n",
        "## Evaluate Accuracy for Different k Values\n",
        "\n",
        "In this step, you will:\n",
        "\n",
        "- Choose a list of values for $k$ (for example: 1, 3, 5, 7, 9). Choose at least 5 values to test k for, you can explore further values to explore trends or to determine a best value.\n",
        "- Use your `knn_predictor` function to make predictions on the validation set for each $k$.\n",
        "- Calculate the accuracy for each $k$ by comparing predictions to the true labels.\n",
        "- Print out the results so you can see which $k$ performs best.\n",
        "\n",
        "\n",
        "**Note:** You can use either odd or even values for $k$. If you encounter ties in majority voting, break them consistently (for example, by choosing the smallest label).\n"
      ]
    },
    {
      "cell_type": "code",
      "source": [
        "# # TODO: Evaluate accuracy for different k values\n",
        "\n",
        "# kVals = [2 * i + 1 for i in range(5)]\n",
        "# # print(kVals)\n",
        "\n",
        "# # sys.exit(1)\n",
        "\n",
        "# accuracies = {} # Store your accuracies in a dictionary so you can easily compare them later.\n",
        "# total = 0\n",
        "\n",
        "# for k in kVals:\n",
        "#   # returns array of all predicted classifications, where the \"test\" point is each validation pt...\n",
        "#   preds = knn_predictor(x_train_norm, y_train, x_val, k)\n",
        "#   correct = (preds == y_val)\n",
        "#   accuracy = ...\n",
        "#   accuracies[k] = accuracy\n",
        "#   print(f\"k = {k}, accuracy = {accuracy:.4f}\")\n"
      ],
      "metadata": {
        "id": "6UAUvrPb5I3W"
      },
      "id": "6UAUvrPb5I3W",
      "execution_count": null,
      "outputs": []
    },
    {
      "cell_type": "code",
      "execution_count": 136,
      "id": "6163268a-a1be-4ff1-a30e-664c26df1739",
      "metadata": {
        "id": "6163268a-a1be-4ff1-a30e-664c26df1739",
        "colab": {
          "base_uri": "https://localhost:8080/"
        },
        "outputId": "aa9e41bb-39d8-4190-a190-94d42782103d"
      },
      "outputs": [
        {
          "output_type": "stream",
          "name": "stdout",
          "text": [
            "   mean_intensity  std_intensity  threshold_count  nonzero_count        q1  \\\n",
            "0        0.543770       0.742228         0.672078       0.672078  0.513427   \n",
            "1        0.298635       0.532989         0.370130       0.370130  0.370189   \n",
            "2        0.289627       0.498728         0.415584       0.415584  0.472875   \n",
            "3        0.186215       0.407751         0.220779       0.220779  0.218037   \n",
            "4        0.249365       0.488622         0.295455       0.295455  0.271689   \n",
            "\n",
            "         q2        q3        q4     com_y     com_x  symmetry_h  symmetry_v  \\\n",
            "0  0.662403  0.630818  0.445602  0.313912  0.603167    0.490171    0.442925   \n",
            "1  0.316087  0.197912  0.459159  0.386485  0.804350    0.596808    0.686804   \n",
            "2  0.229185  0.232783  0.399297  0.789914  0.428289    0.494842    0.425879   \n",
            "3  0.265881  0.216788  0.257626  0.871982  0.548772    0.740441    0.638468   \n",
            "4  0.445435  0.277015  0.203440  0.094411  0.735164    0.612794    0.595737   \n",
            "\n",
            "   rowIntensity  colIntensity  \n",
            "0      0.543770      0.543770  \n",
            "1      0.298635      0.298635  \n",
            "2      0.289627      0.289627  \n",
            "3      0.186215      0.186215  \n",
            "4      0.249365      0.249365  \n",
            "   mean_intensity  std_intensity  threshold_count  nonzero_count        q1  \\\n",
            "0        0.180899       0.297446         0.271698       0.271698  0.162116   \n",
            "1        0.162373       0.270247         0.256604       0.256604  0.155447   \n",
            "2        0.455156       0.643493         0.539623       0.539623  0.064559   \n",
            "3        0.279400       0.462068         0.339623       0.339623  0.299856   \n",
            "4        0.800315       0.907173         0.766038       0.766038  0.533659   \n",
            "\n",
            "         q2        q3        q4     com_y     com_x  symmetry_h  symmetry_v  \\\n",
            "0  0.314738  0.264061  0.159815  0.040103  0.764621    0.610904    0.604432   \n",
            "1  0.122866  0.215955  0.371106  0.729010  0.043917    0.691149    0.582025   \n",
            "2  0.476894  0.670680  0.571211  0.883665  0.974711    0.248109    0.393496   \n",
            "3  0.123491  0.287207  0.543219  0.309442  0.901112    0.529797    0.590419   \n",
            "4  0.827227  0.892572  0.630183  0.820574  0.643006    0.142424    0.090366   \n",
            "\n",
            "   rowIntensity  colIntensity  \n",
            "0      0.180899      0.180899  \n",
            "1      0.162373      0.162373  \n",
            "2      0.455156      0.455156  \n",
            "3      0.279400      0.279400  \n",
            "4      0.800315      0.800315  \n",
            "(1000, 14)\n",
            "here\n",
            "k = 1, accuracy = 0.3010\n",
            "here\n",
            "k = 3, accuracy = 0.3120\n",
            "here\n",
            "k = 5, accuracy = 0.3220\n",
            "here\n",
            "k = 7, accuracy = 0.3240\n",
            "here\n",
            "k = 9, accuracy = 0.3390\n"
          ]
        }
      ],
      "source": [
        "# TODO: Evaluate accuracy for different k values\n",
        "\n",
        "kVals = [2 * i + 1 for i in range(5)]\n",
        "# print(kVals)\n",
        "\n",
        "# sys.exit(1)\n",
        "\n",
        "accuracies = {} # Store your accuracies in a dictionary so you can easily compare them later.\n",
        "# numCorrect = 0\n",
        "# total = 0\n",
        "\n",
        "# print(x_train_norm.shape)\n",
        "# print(x_val_norm.shape)\n",
        "\n",
        "# print(y_train.shape)\n",
        "# sys.exit(1)\n",
        "\n",
        "\n",
        "\n",
        "print(df_featuresTrainNorm.head())\n",
        "print(df_featuresValNorm.head())\n",
        "\n",
        "print(df_featuresVal.shape)\n",
        "\n",
        "# x_train = np.array(df_featuresTrain)\n",
        "# print(x_train.shape)\n",
        "\n",
        "for k in kVals:\n",
        "#   print(\"here...\")\n",
        "  # returns array of all predicted classifications, where the \"test\" point is each validation pt...\n",
        "\n",
        "  # preds = knn_predictor(x_train_norm[:1000], y_train[:1000], x_val_norm[:1000], k)\n",
        "  preds = knn_predictor(df_featuresTrainNorm[:1000], y_train[:1000], df_featuresValNorm[:1000], k)\n",
        "\n",
        "#   preds = knn_predictor(df_featuresTrain, y_train, df_featuresVal, k)\n",
        "  correct = (preds == y_val[:1000])\n",
        "  accuracy = np.mean(correct)\n",
        "  accuracies[k] = accuracy\n",
        "\n",
        "#   # print(correct)\n",
        "  print(f\"k = {k}, accuracy = {accuracy:.4f}\")\n"
      ]
    },
    {
      "cell_type": "code",
      "source": [
        "from sklearn.neighbors import KNeighborsClassifier\n",
        "from sklearn.metrics import accuracy_score\n",
        "\n",
        "\n",
        "\n",
        "\n",
        "knn = KNeighborsClassifier(n_neighbors=5)\n",
        "knn.fit(df_featuresTrainNorm.to_numpy(), y_train)\n",
        "y_pred = knn.predict(df_featuresValNorm.to_numpy())\n",
        "print(\"Sklearn accuracy:\", accuracy_score(y_val, y_pred))"
      ],
      "metadata": {
        "colab": {
          "base_uri": "https://localhost:8080/"
        },
        "id": "t-r1xALEm53E",
        "outputId": "cfb2a865-3145-4d33-e998-204acb779665"
      },
      "id": "t-r1xALEm53E",
      "execution_count": 137,
      "outputs": [
        {
          "output_type": "stream",
          "name": "stdout",
          "text": [
            "Sklearn accuracy: 0.425\n"
          ]
        }
      ]
    },
    {
      "cell_type": "code",
      "source": [
        "import seaborn as sns\n",
        "import pandas as pd\n",
        "\n",
        "df = pd.DataFrame(df_featuresTrainNorm.to_numpy(), columns=['mean', 'std', 'threshold', 'nonzero'])\n",
        "df['label'] = y_train\n",
        "sns.pairplot(df, hue='label')  # this will show class separation\n"
      ],
      "metadata": {
        "colab": {
          "base_uri": "https://localhost:8080/",
          "height": 356
        },
        "id": "qclNRU9dma6G",
        "outputId": "3e569e2f-5db8-4e4d-e90f-95e610bf7607"
      },
      "id": "qclNRU9dma6G",
      "execution_count": 93,
      "outputs": [
        {
          "output_type": "error",
          "ename": "ValueError",
          "evalue": "Shape of passed values is (9000, 12), indices imply (9000, 4)",
          "traceback": [
            "\u001b[0;31m---------------------------------------------------------------------------\u001b[0m",
            "\u001b[0;31mValueError\u001b[0m                                Traceback (most recent call last)",
            "\u001b[0;32m/tmp/ipython-input-93-3817011059.py\u001b[0m in \u001b[0;36m<cell line: 0>\u001b[0;34m()\u001b[0m\n\u001b[1;32m      2\u001b[0m \u001b[0;32mimport\u001b[0m \u001b[0mpandas\u001b[0m \u001b[0;32mas\u001b[0m \u001b[0mpd\u001b[0m\u001b[0;34m\u001b[0m\u001b[0;34m\u001b[0m\u001b[0m\n\u001b[1;32m      3\u001b[0m \u001b[0;34m\u001b[0m\u001b[0m\n\u001b[0;32m----> 4\u001b[0;31m \u001b[0mdf\u001b[0m \u001b[0;34m=\u001b[0m \u001b[0mpd\u001b[0m\u001b[0;34m.\u001b[0m\u001b[0mDataFrame\u001b[0m\u001b[0;34m(\u001b[0m\u001b[0mdf_featuresTrainNorm\u001b[0m\u001b[0;34m.\u001b[0m\u001b[0mto_numpy\u001b[0m\u001b[0;34m(\u001b[0m\u001b[0;34m)\u001b[0m\u001b[0;34m,\u001b[0m \u001b[0mcolumns\u001b[0m\u001b[0;34m=\u001b[0m\u001b[0;34m[\u001b[0m\u001b[0;34m'mean'\u001b[0m\u001b[0;34m,\u001b[0m \u001b[0;34m'std'\u001b[0m\u001b[0;34m,\u001b[0m \u001b[0;34m'threshold'\u001b[0m\u001b[0;34m,\u001b[0m \u001b[0;34m'nonzero'\u001b[0m\u001b[0;34m]\u001b[0m\u001b[0;34m)\u001b[0m\u001b[0;34m\u001b[0m\u001b[0;34m\u001b[0m\u001b[0m\n\u001b[0m\u001b[1;32m      5\u001b[0m \u001b[0mdf\u001b[0m\u001b[0;34m[\u001b[0m\u001b[0;34m'label'\u001b[0m\u001b[0;34m]\u001b[0m \u001b[0;34m=\u001b[0m \u001b[0my_train\u001b[0m\u001b[0;34m\u001b[0m\u001b[0;34m\u001b[0m\u001b[0m\n\u001b[1;32m      6\u001b[0m \u001b[0msns\u001b[0m\u001b[0;34m.\u001b[0m\u001b[0mpairplot\u001b[0m\u001b[0;34m(\u001b[0m\u001b[0mdf\u001b[0m\u001b[0;34m,\u001b[0m \u001b[0mhue\u001b[0m\u001b[0;34m=\u001b[0m\u001b[0;34m'label'\u001b[0m\u001b[0;34m)\u001b[0m  \u001b[0;31m# this will show class separation\u001b[0m\u001b[0;34m\u001b[0m\u001b[0;34m\u001b[0m\u001b[0m\n",
            "\u001b[0;32m/usr/local/lib/python3.11/dist-packages/pandas/core/frame.py\u001b[0m in \u001b[0;36m__init__\u001b[0;34m(self, data, index, columns, dtype, copy)\u001b[0m\n\u001b[1;32m    825\u001b[0m                 )\n\u001b[1;32m    826\u001b[0m             \u001b[0;32melse\u001b[0m\u001b[0;34m:\u001b[0m\u001b[0;34m\u001b[0m\u001b[0;34m\u001b[0m\u001b[0m\n\u001b[0;32m--> 827\u001b[0;31m                 mgr = ndarray_to_mgr(\n\u001b[0m\u001b[1;32m    828\u001b[0m                     \u001b[0mdata\u001b[0m\u001b[0;34m,\u001b[0m\u001b[0;34m\u001b[0m\u001b[0;34m\u001b[0m\u001b[0m\n\u001b[1;32m    829\u001b[0m                     \u001b[0mindex\u001b[0m\u001b[0;34m,\u001b[0m\u001b[0;34m\u001b[0m\u001b[0;34m\u001b[0m\u001b[0m\n",
            "\u001b[0;32m/usr/local/lib/python3.11/dist-packages/pandas/core/internals/construction.py\u001b[0m in \u001b[0;36mndarray_to_mgr\u001b[0;34m(values, index, columns, dtype, copy, typ)\u001b[0m\n\u001b[1;32m    334\u001b[0m     )\n\u001b[1;32m    335\u001b[0m \u001b[0;34m\u001b[0m\u001b[0m\n\u001b[0;32m--> 336\u001b[0;31m     \u001b[0m_check_values_indices_shape_match\u001b[0m\u001b[0;34m(\u001b[0m\u001b[0mvalues\u001b[0m\u001b[0;34m,\u001b[0m \u001b[0mindex\u001b[0m\u001b[0;34m,\u001b[0m \u001b[0mcolumns\u001b[0m\u001b[0;34m)\u001b[0m\u001b[0;34m\u001b[0m\u001b[0;34m\u001b[0m\u001b[0m\n\u001b[0m\u001b[1;32m    337\u001b[0m \u001b[0;34m\u001b[0m\u001b[0m\n\u001b[1;32m    338\u001b[0m     \u001b[0;32mif\u001b[0m \u001b[0mtyp\u001b[0m \u001b[0;34m==\u001b[0m \u001b[0;34m\"array\"\u001b[0m\u001b[0;34m:\u001b[0m\u001b[0;34m\u001b[0m\u001b[0;34m\u001b[0m\u001b[0m\n",
            "\u001b[0;32m/usr/local/lib/python3.11/dist-packages/pandas/core/internals/construction.py\u001b[0m in \u001b[0;36m_check_values_indices_shape_match\u001b[0;34m(values, index, columns)\u001b[0m\n\u001b[1;32m    418\u001b[0m         \u001b[0mpassed\u001b[0m \u001b[0;34m=\u001b[0m \u001b[0mvalues\u001b[0m\u001b[0;34m.\u001b[0m\u001b[0mshape\u001b[0m\u001b[0;34m\u001b[0m\u001b[0;34m\u001b[0m\u001b[0m\n\u001b[1;32m    419\u001b[0m         \u001b[0mimplied\u001b[0m \u001b[0;34m=\u001b[0m \u001b[0;34m(\u001b[0m\u001b[0mlen\u001b[0m\u001b[0;34m(\u001b[0m\u001b[0mindex\u001b[0m\u001b[0;34m)\u001b[0m\u001b[0;34m,\u001b[0m \u001b[0mlen\u001b[0m\u001b[0;34m(\u001b[0m\u001b[0mcolumns\u001b[0m\u001b[0;34m)\u001b[0m\u001b[0;34m)\u001b[0m\u001b[0;34m\u001b[0m\u001b[0;34m\u001b[0m\u001b[0m\n\u001b[0;32m--> 420\u001b[0;31m         \u001b[0;32mraise\u001b[0m \u001b[0mValueError\u001b[0m\u001b[0;34m(\u001b[0m\u001b[0;34mf\"Shape of passed values is {passed}, indices imply {implied}\"\u001b[0m\u001b[0;34m)\u001b[0m\u001b[0;34m\u001b[0m\u001b[0;34m\u001b[0m\u001b[0m\n\u001b[0m\u001b[1;32m    421\u001b[0m \u001b[0;34m\u001b[0m\u001b[0m\n\u001b[1;32m    422\u001b[0m \u001b[0;34m\u001b[0m\u001b[0m\n",
            "\u001b[0;31mValueError\u001b[0m: Shape of passed values is (9000, 12), indices imply (9000, 4)"
          ]
        }
      ]
    },
    {
      "cell_type": "markdown",
      "id": "10ba0a05-ac11-4596-9356-50b72b2be09a",
      "metadata": {
        "id": "10ba0a05-ac11-4596-9356-50b72b2be09a"
      },
      "source": [
        "## Evaluating on the Test Set\n",
        "\n",
        "In this step, you will use your KNN classifier with the best $k$ value to predict labels for the test set and evaluate its performance.\n",
        "\n",
        "Since the test set includes labels, you can:\n",
        "\n",
        "- Calculate the accuracy on the test set\n"
      ]
    },
    {
      "cell_type": "code",
      "execution_count": null,
      "id": "641971be-76b1-4370-98a9-a36b335ae9b4",
      "metadata": {
        "id": "641971be-76b1-4370-98a9-a36b335ae9b4"
      },
      "outputs": [],
      "source": [
        "#Testing the KNN Model"
      ]
    },
    {
      "cell_type": "code",
      "execution_count": null,
      "id": "f0285eab-ab2e-4a8a-878d-6caf6bf6149f",
      "metadata": {
        "id": "f0285eab-ab2e-4a8a-878d-6caf6bf6149f"
      },
      "outputs": [],
      "source": [
        "# TODO: Evaluate your KNN classifier on the test set\n",
        "\n",
        "# Load test data\n",
        "# test_data = np.load(\"mnist_1k_test.npz\")\n",
        "# x_test = ...\n",
        "# y_test = ...\n",
        "\n",
        "# Do any preprocessing required\n",
        "\n",
        "# Predict using your best k from the validation set.\n",
        "\n",
        "\n",
        "# Calculate accuracy by comparing your predicted labels vs the actual ones in y_test\n",
        "# test_accuracy = ...\n",
        "# print(f\"Test set accuracy: {test_accuracy:.4f}\")"
      ]
    },
    {
      "cell_type": "markdown",
      "id": "649014c0-7db4-4d90-ac5f-352bc7dbb12c",
      "metadata": {
        "id": "649014c0-7db4-4d90-ac5f-352bc7dbb12c"
      },
      "source": [
        "## Reflection and Analysis\n",
        "\n",
        "Answer the following questions. You may include text, plots, and code as needed.\n",
        "\n",
        "---\n",
        "\n",
        "### 1. Effect of k on Validation Accuracy\n",
        "\n",
        "- How did changing \\(k\\) affect your validation accuracy?\n",
        "- Create a plot showing accuracy for each \\(k\\).\n",
        "\n",
        "*Add your plot and brief explanation below:*\n"
      ]
    },
    {
      "cell_type": "code",
      "execution_count": null,
      "id": "23a4088a-b432-4961-8c1f-c3254c4cb09b",
      "metadata": {
        "id": "23a4088a-b432-4961-8c1f-c3254c4cb09b"
      },
      "outputs": [],
      "source": [
        "# Example: plotting accuracy vs k\n",
        "# import matplotlib.pyplot as plt\n",
        "\n",
        "\n",
        "\n",
        "# plt.plot(k_values, accuracies) #\n",
        "# plt.xlabel(\"k\")\n",
        "# plt.ylabel(\"Accuracy\")\n",
        "# plt.title(\"Validation Accuracy vs k\")\n",
        "# plt.show()\n"
      ]
    },
    {
      "cell_type": "markdown",
      "id": "c494d041-75e7-4442-b259-df7521b6ad7f",
      "metadata": {
        "id": "c494d041-75e7-4442-b259-df7521b6ad7f"
      },
      "source": [
        "- Why do you think this the plot looks like it does and how does changing $k$ affect your accuracy on the validation set?\n",
        "\n",
        "\n"
      ]
    },
    {
      "cell_type": "markdown",
      "id": "f5b8b1f6-c6c6-4e33-bad0-577f3d6d4d1a",
      "metadata": {
        "id": "f5b8b1f6-c6c6-4e33-bad0-577f3d6d4d1a"
      },
      "source": [
        "*Write your answer here.*"
      ]
    },
    {
      "cell_type": "markdown",
      "id": "74796983-2688-4050-851c-6dd93ad5db5c",
      "metadata": {
        "id": "74796983-2688-4050-851c-6dd93ad5db5c"
      },
      "source": [
        "## 2. Confusion Matrix Analysis\n",
        "\n",
        "#### What is a Confusion Matrix?\n",
        "\n",
        "A **confusion matrix** is a table used to evaluate the performance of a classification model.\n",
        "\n",
        "- Each **row** represents the actual class.\n",
        "- Each **column** represents the predicted class.\n",
        "- The diagonal cells show the number of correct predictions for each class.\n",
        "- The off-diagonal cells show where the model made mistakes (e.g., predicting a 5 when the true label was 3).\n",
        "\n",
        "This visualization helps you see **which digits are most often confused** and where your classifier might need improvement.\n",
        "\n",
        "\n",
        "- Which digit classes were most frequently confused for your KNN classifier?\n",
        "- Create and display your confusion matrix to help you observe these patterns in both your validation set and test set.\n",
        "\n",
        "*Insert your confusion matrix visualization either after the one provided for you or edit the existing code.*\n"
      ]
    },
    {
      "cell_type": "markdown",
      "id": "24853b3b-9d21-4784-be97-2df5ee9dc571",
      "metadata": {
        "id": "24853b3b-9d21-4784-be97-2df5ee9dc571"
      },
      "source": [
        "*Write your answer here*"
      ]
    },
    {
      "cell_type": "code",
      "execution_count": null,
      "id": "0dc94b24-9f81-4ff8-96a7-6418f128ba00",
      "metadata": {
        "id": "0dc94b24-9f81-4ff8-96a7-6418f128ba00",
        "outputId": "af9db414-bc9d-48de-ef9b-ab013084fce2"
      },
      "outputs": [
        {
          "data": {
            "text/plain": [
              "<sklearn.metrics._plot.confusion_matrix.ConfusionMatrixDisplay at 0x7a3b1d0a8a30>"
            ]
          },
          "execution_count": 9,
          "metadata": {},
          "output_type": "execute_result"
        },
        {
          "data": {
            "image/png": "[encoded data removed]",
            "text/plain": [
              "<Figure size 432x288 with 2 Axes>"
            ]
          },
          "metadata": {
            "needs_background": "light"
          },
          "output_type": "display_data"
        }
      ],
      "source": [
        "# Example: confusion matrix demonstration with dummy data\n",
        "\n",
        "from sklearn.metrics import confusion_matrix, ConfusionMatrixDisplay\n",
        "\n",
        "# Dummy true labels and predictions\n",
        "y_ground_truth = np.array([0, 1, 2, 2, 1, 0])\n",
        "y_predictions = np.array([0, 2, 2, 2, 1, 0])\n",
        "\n",
        "# Compute confusion matrix\n",
        "cm_example = confusion_matrix(y_ground_truth, y_predictions)\n",
        "\n",
        "# Plot Confusion Matrix\n",
        "cm_plot = ConfusionMatrixDisplay(confusion_matrix=cm_example)\n",
        "cm_plot.plot()"
      ]
    },
    {
      "cell_type": "markdown",
      "id": "74150f11-4f20-42a5-9068-6fa22e4f519b",
      "metadata": {
        "tags": [],
        "id": "74150f11-4f20-42a5-9068-6fa22e4f519b"
      },
      "source": [
        "----\n",
        "## 3. Runtime Performance\n",
        "\n",
        "- How long did it take to run predictions for your validation set?\n",
        "- What about your performance on the test set?\n",
        "- What impact does the value of $k$ have on this?\n",
        "- Does the best value of $k$ for your validation set hold true for the test set? Why or Why not?\n",
        "\n",
        "*You can measure time using the following example code:*\n",
        " start_time = time.time()\n",
        " preds = knn_predictor(...)\n",
        " end_time = time.time()"
      ]
    },
    {
      "cell_type": "code",
      "execution_count": null,
      "id": "3dfe87ce-25fb-4383-97a9-bab51c639c5f",
      "metadata": {
        "id": "3dfe87ce-25fb-4383-97a9-bab51c639c5f"
      },
      "outputs": [],
      "source": []
    },
    {
      "cell_type": "code",
      "execution_count": null,
      "id": "30727058-ca49-4c1a-a856-8837270c18e3",
      "metadata": {
        "id": "30727058-ca49-4c1a-a856-8837270c18e3"
      },
      "outputs": [],
      "source": []
    },
    {
      "cell_type": "markdown",
      "id": "98493d69-4de6-4746-af70-a86535369c9d",
      "metadata": {
        "id": "98493d69-4de6-4746-af70-a86535369c9d"
      },
      "source": [
        "---\n",
        "## Additional Analysis\n",
        "If you want to conduct any additional exploration, you can report it here."
      ]
    },
    {
      "cell_type": "code",
      "execution_count": null,
      "id": "d4b2a8a0-6f89-4491-9124-56fe066d6758",
      "metadata": {
        "id": "d4b2a8a0-6f89-4491-9124-56fe066d6758"
      },
      "outputs": [],
      "source": []
    },
    {
      "cell_type": "markdown",
      "id": "4efd97f9-d234-4043-b5e6-a0a87b309e9b",
      "metadata": {
        "tags": [],
        "id": "4efd97f9-d234-4043-b5e6-a0a87b309e9b"
      },
      "source": [
        "---\n",
        "Use additional cells if you need more space or want to add extra visualizations.\n",
        "\n",
        "---\n",
        "# Part 2: K-Means Clustering (25 points)"
      ]
    },
    {
      "cell_type": "markdown",
      "id": "ea85e44b-c513-491d-a4a9-0df3aad7206b",
      "metadata": {
        "id": "ea85e44b-c513-491d-a4a9-0df3aad7206b"
      },
      "source": [
        "### Cheesecake Consumers Dilemma\n",
        "\n",
        "In this assignment, you will analyze a dataset of customers visiting a cheesecake shop.\n",
        "\n",
        "Your goals are to:\n",
        "\n",
        "- Explore the dataset and determine which features you believe are meaningful for clustering\n",
        "- Experiment with different values of $k$\n",
        "- Implement K-Means clustering from scratch\n",
        "- Interpret your results\n",
        "\n",
        "**Note:** You may use NumPy, Pandas, and Matplotlib. You may not use scikit-learn's `KMeans` for your own implementation. Any provided code can be modified, it is just there to guide you or offer additional insight to the directions.\n"
      ]
    },
    {
      "cell_type": "markdown",
      "id": "a9e7505b-efa4-453c-8001-a9738562e009",
      "metadata": {
        "id": "a9e7505b-efa4-453c-8001-a9738562e009"
      },
      "source": [
        "### Load and Inspect the Data\n",
        "\n",
        "Load the dataset and explore its structure.\n"
      ]
    },
    {
      "cell_type": "code",
      "execution_count": null,
      "id": "8e10432a-e130-4c56-b8f9-2db8131e4174",
      "metadata": {
        "id": "8e10432a-e130-4c56-b8f9-2db8131e4174"
      },
      "outputs": [],
      "source": [
        "import pandas as pd\n",
        "\n",
        "# Load the CSV file\n",
        "\n",
        "try:\n",
        "  df = pd.read_csv(\"CheesecakeConsumers.csv\")\n",
        "except:\n",
        "  df = pd.read_csv(\"/content/drive/MyDrive/CheesecakeConsumers.csv\")\n",
        "# Conduct any other exploration to determine how to best create a feature space for clustering\n",
        "# Such as selecting numeric features and applying any normalization techniques on them if needed\n",
        "# Example:\n",
        "# X = df[[\"Age\", \"Consumer Score\"]].values"
      ]
    },
    {
      "cell_type": "code",
      "execution_count": null,
      "id": "959750c6-f804-495b-972b-c2e8aaf12923",
      "metadata": {
        "id": "959750c6-f804-495b-972b-c2e8aaf12923"
      },
      "outputs": [],
      "source": []
    },
    {
      "cell_type": "markdown",
      "id": "9f9aac60-cdeb-4d7c-9c6e-23992b6698a3",
      "metadata": {
        "id": "9f9aac60-cdeb-4d7c-9c6e-23992b6698a3"
      },
      "source": [
        "## K-Means Implementation\n",
        "\n",
        "Implement K-Means clustering from scratch below.\n",
        "\n"
      ]
    },
    {
      "cell_type": "code",
      "execution_count": null,
      "id": "6b38d614-f229-434e-a598-ebf8e526f729",
      "metadata": {
        "id": "6b38d614-f229-434e-a598-ebf8e526f729"
      },
      "outputs": [],
      "source": [
        "# TODO: Implement your K-Means algorithm\n",
        "\n",
        "# Example structure:\n",
        "# def kmeans(features, k, max_iters=20): #Remember we don't want an infinite loop so we'll end the algorithm after max_iters\n",
        "#     # Initialize centroids\n",
        "#     # Repeat until convergence:\n",
        "#         # Assign labels\n",
        "#         # Update centroids\n",
        "#     return labels, centroids\n"
      ]
    },
    {
      "cell_type": "code",
      "execution_count": null,
      "id": "5f4a4f40-1865-4ac1-95a9-71efd830901b",
      "metadata": {
        "id": "5f4a4f40-1865-4ac1-95a9-71efd830901b"
      },
      "outputs": [],
      "source": [
        "\n",
        "### If you wish to test your implementation prior to interacting with real data\n",
        "### Feel free to use the following code stub to see if you can cluster the following dummy data\n",
        "\n",
        "# X_test = np.vstack([ np.random.normal(loc=0.0, scale=0.5, size=(10, 2)),\n",
        "#     np.random.normal(loc=5.0, scale=0.5, size=(10, 2))])\n",
        "\n",
        "# plt.scatter(X_test[:,0], X_test[:,1], s=50)\n",
        "# plt.title(\"Dummy Data 2 Clusters\")\n",
        "# plt.show()\n"
      ]
    },
    {
      "cell_type": "markdown",
      "id": "7e805ab8-3fd0-45ab-83da-09ecb063dc1e",
      "metadata": {
        "id": "7e805ab8-3fd0-45ab-83da-09ecb063dc1e"
      },
      "source": [
        "## Run Your K-Means\n",
        "\n",
        "Run your implementation with your chosen k on the cheesecake consumer data, feel free to try multiple runs and determine what k best clusters this data.\n",
        "\n",
        "Defend your best k value after deciding on one, you should use visual aids like scatterplots to make your point."
      ]
    },
    {
      "cell_type": "code",
      "execution_count": null,
      "id": "4720cd97-b1b0-4835-b0ee-f784439a3bc9",
      "metadata": {
        "id": "4720cd97-b1b0-4835-b0ee-f784439a3bc9"
      },
      "outputs": [],
      "source": [
        "#  Run your K-Means\n",
        "# labels, centroids = kmeans(X_scaled, k=...)"
      ]
    },
    {
      "cell_type": "code",
      "execution_count": null,
      "id": "696e30b0-6cb7-4701-b82f-eaec1d94f52b",
      "metadata": {
        "id": "696e30b0-6cb7-4701-b82f-eaec1d94f52b"
      },
      "outputs": [],
      "source": [
        "# Plot your clusters, and centroids. Finalize your best value for k"
      ]
    },
    {
      "cell_type": "code",
      "execution_count": null,
      "id": "5bd0ed88-b15c-4524-b02c-a37597db8e67",
      "metadata": {
        "id": "5bd0ed88-b15c-4524-b02c-a37597db8e67"
      },
      "outputs": [],
      "source": [
        "## Feel free to use some of the following stub to assist you in plotting it\n",
        "\n",
        "# plt.scatter(..., c=labels, cmap=\"viridis\")\n",
        "## Also plot your centroids on this plot for visual clarity\n",
        "# plt.xlabel(\"Spending power\")\n",
        "# plt.ylabel(\"Age\")\n",
        "# plt.title(\"K-Means Clusters\")\n",
        "# plt.show()\n"
      ]
    },
    {
      "cell_type": "markdown",
      "id": "1141b8ea-9c74-4541-9662-a7d5b38b40d1",
      "metadata": {
        "id": "1141b8ea-9c74-4541-9662-a7d5b38b40d1"
      },
      "source": [
        "## Testing New Data\n",
        "\n",
        "Below are 5 new customers alongside their data attributes:\n",
        "\n",
        "| ID | Age | Gender | Spending Power| Consumer Score (1–100) |\n",
        "|----|-----|--------|---------------|------------------------|\n",
        "| 1  | 24  | Female | 25            | 85                     |\n",
        "| 2  | 52  | Male   | 80            | 20                     |\n",
        "| 3  | 35  | Female | 55            | 60                     |\n",
        "| 4  | 42  | Male   | 45            | 30                     |\n",
        "| 5  | 29  | Female | 90            | 75                     |\n",
        "\n",
        "**Tasks:**\n",
        "1. Standardize these 5 samples the same way you processed your original data.\n",
        "2. Assign each sample to the closest cluster centroid (from your implementation).\n",
        "3. Plot these points on top of your clustered data, using distinct markers or colors.\n"
      ]
    },
    {
      "cell_type": "code",
      "execution_count": null,
      "id": "ae563f05-5392-48ba-9c3b-26a08731eb4c",
      "metadata": {
        "id": "ae563f05-5392-48ba-9c3b-26a08731eb4c"
      },
      "outputs": [],
      "source": []
    },
    {
      "cell_type": "code",
      "execution_count": null,
      "id": "37e0537f-bf5e-4f57-bb71-131c0ae88f2c",
      "metadata": {
        "id": "37e0537f-bf5e-4f57-bb71-131c0ae88f2c"
      },
      "outputs": [],
      "source": []
    },
    {
      "cell_type": "code",
      "execution_count": null,
      "id": "3c18e5ef-9949-4f66-96e0-ad7b042f81dd",
      "metadata": {
        "id": "3c18e5ef-9949-4f66-96e0-ad7b042f81dd"
      },
      "outputs": [],
      "source": []
    },
    {
      "cell_type": "code",
      "execution_count": null,
      "id": "fd9f8e60-2282-499a-a37d-15356ed45487",
      "metadata": {
        "id": "fd9f8e60-2282-499a-a37d-15356ed45487"
      },
      "outputs": [],
      "source": []
    },
    {
      "cell_type": "markdown",
      "id": "fd36221a-5b2d-4c31-9e55-b0212fcc9220",
      "metadata": {
        "id": "fd36221a-5b2d-4c31-9e55-b0212fcc9220"
      },
      "source": [
        "*State your reasoning for finalizing on this value of k*"
      ]
    },
    {
      "cell_type": "markdown",
      "id": "bed98463-3371-4542-824d-0d0d4b5baddb",
      "metadata": {
        "id": "bed98463-3371-4542-824d-0d0d4b5baddb"
      },
      "source": [
        "## Analysis and Reflection\n",
        "\n",
        "Answer the following questions:\n",
        "\n",
        "1. What patterns or groups do you notice in your clusters?\n",
        "2. Does the value of max iterations pay a large role in your algorithm? Try various values to showcase your answer.\n",
        "3. Why might K-Means struggle to perfectly separate customers?\n",
        "4. If you had more features, what other data would you collect?\n",
        "\n"
      ]
    },
    {
      "cell_type": "markdown",
      "id": "0e8b4dc7-e3f1-4c33-a27c-1a127a5bd20c",
      "metadata": {
        "id": "0e8b4dc7-e3f1-4c33-a27c-1a127a5bd20c"
      },
      "source": [
        "*Write answers here*"
      ]
    },
    {
      "cell_type": "code",
      "execution_count": null,
      "id": "24e26af6-b1bb-4ecb-a361-0aff3011ff63",
      "metadata": {
        "id": "24e26af6-b1bb-4ecb-a361-0aff3011ff63"
      },
      "outputs": [],
      "source": []
    },
    {
      "cell_type": "code",
      "execution_count": null,
      "id": "b97488e5-2967-416e-b0c8-ae93d9df0cac",
      "metadata": {
        "id": "b97488e5-2967-416e-b0c8-ae93d9df0cac"
      },
      "outputs": [],
      "source": []
    },
    {
      "cell_type": "markdown",
      "id": "ad18e80c-9b81-42ba-bac9-a6db5eea5f8f",
      "metadata": {
        "id": "ad18e80c-9b81-42ba-bac9-a6db5eea5f8f"
      },
      "source": [
        "## Comparison with scikit-learn KMeans\n",
        "\n",
        "To review your own implementation we will:\n",
        "\n",
        "- Use scikit-learn's KMeans to cluster the original cheesecake consumers data (Not the testing samples).\n",
        "- Compare scikit-learn's centroids and labels to your own implementation.\n",
        "- Reflect on similarities or differences.\n",
        "\n",
        "**Note:** This is to help you evaluate your implementation, it does not affect your grade if results are not identical.\n"
      ]
    },
    {
      "cell_type": "code",
      "execution_count": null,
      "id": "17b4104c-e1cf-499e-898e-51e584e3cf4a",
      "metadata": {
        "id": "17b4104c-e1cf-499e-898e-51e584e3cf4a",
        "colab": {
          "base_uri": "https://localhost:8080/",
          "height": 211
        },
        "outputId": "72835727-f7d2-459a-d2d9-0853104290cc"
      },
      "outputs": [
        {
          "output_type": "error",
          "ename": "NameError",
          "evalue": "name 'standardized_x' is not defined",
          "traceback": [
            "\u001b[0;31m---------------------------------------------------------------------------\u001b[0m",
            "\u001b[0;31mNameError\u001b[0m                                 Traceback (most recent call last)",
            "\u001b[0;32m/tmp/ipython-input-83-2848281438.py\u001b[0m in \u001b[0;36m<cell line: 0>\u001b[0;34m()\u001b[0m\n\u001b[1;32m      5\u001b[0m \u001b[0;31m# Fit KMeans\u001b[0m\u001b[0;34m\u001b[0m\u001b[0;34m\u001b[0m\u001b[0m\n\u001b[1;32m      6\u001b[0m \u001b[0mkmeans_sklearn\u001b[0m \u001b[0;34m=\u001b[0m \u001b[0mKMeans\u001b[0m\u001b[0;34m(\u001b[0m\u001b[0mn_clusters\u001b[0m\u001b[0;34m=\u001b[0m\u001b[0;34m...\u001b[0m\u001b[0;34m,\u001b[0m \u001b[0mrandom_state\u001b[0m\u001b[0;34m=\u001b[0m\u001b[0;36m0\u001b[0m\u001b[0;34m)\u001b[0m\u001b[0;34m\u001b[0m\u001b[0;34m\u001b[0m\u001b[0m\n\u001b[0;32m----> 7\u001b[0;31m \u001b[0mkmeans_sklearn\u001b[0m\u001b[0;34m.\u001b[0m\u001b[0mfit\u001b[0m\u001b[0;34m(\u001b[0m\u001b[0mstandardized_x\u001b[0m\u001b[0;34m)\u001b[0m\u001b[0;34m\u001b[0m\u001b[0;34m\u001b[0m\u001b[0m\n\u001b[0m\u001b[1;32m      8\u001b[0m \u001b[0;34m\u001b[0m\u001b[0m\n\u001b[1;32m      9\u001b[0m \u001b[0;31m# Get labels and centroids\u001b[0m\u001b[0;34m\u001b[0m\u001b[0;34m\u001b[0m\u001b[0m\n",
            "\u001b[0;31mNameError\u001b[0m: name 'standardized_x' is not defined"
          ]
        }
      ],
      "source": [
        "# TODO: Fit scikit-learn KMeans for comparison\n",
        "\n",
        "from sklearn.cluster import KMeans\n",
        "\n",
        "# Fit KMeans\n",
        "# kmeans_sklearn = KMeans(n_clusters=..., random_state=0)\n",
        "# kmeans_sklearn.fit(standardized_x)\n",
        "\n",
        "# Get labels and centroids\n",
        "# sklearn_labels = kmeans_sklearn.labels_\n",
        "# sklearn_clusters = kmeans_sklearn.cluster_centers_\n"
      ]
    },
    {
      "cell_type": "code",
      "execution_count": null,
      "id": "08948143-3477-4178-9b32-b60d03340af7",
      "metadata": {
        "id": "08948143-3477-4178-9b32-b60d03340af7"
      },
      "outputs": [],
      "source": [
        "# TODO: Plot scikit-learn clusters\n",
        "\n",
        "import matplotlib.pyplot as plt\n",
        "\n",
        "# plt.scatter(x_feature_1, x_feature_2, sklearn_labels, cmap='viridis', s=50)\n",
        "# plt.xlabel(\"Standardized Feature 1 Name\")\n",
        "# plt.ylabel(\"Standardized Feature 2 Name\")\n",
        "# plt.title(\"scikit-learn KMeans Clusters\")\n",
        "# plt.show()\n"
      ]
    },
    {
      "cell_type": "markdown",
      "id": "3265c8a5-e1cf-420a-877d-4222e5e22fcd",
      "metadata": {
        "id": "3265c8a5-e1cf-420a-877d-4222e5e22fcd"
      },
      "source": [
        "## Reflection on Comparison\n",
        "\n",
        "Answer the following:\n",
        "\n",
        "- How similar are the clusters to your implementation?\n",
        "- Did scikit-learn converge to the same or different centroids?\n",
        "*Write your reflection below.*\n"
      ]
    },
    {
      "cell_type": "code",
      "execution_count": null,
      "id": "50a7f0c0-0dcd-4400-889d-3a0268d73341",
      "metadata": {
        "id": "50a7f0c0-0dcd-4400-889d-3a0268d73341"
      },
      "outputs": [],
      "source": []
    }
  ],
  "metadata": {
    "kernelspec": {
      "display_name": "Python 3 (ipykernel)",
      "language": "python",
      "name": "python3"
    },
    "language_info": {
      "codemirror_mode": {
        "name": "ipython",
        "version": 3
      },
      "file_extension": ".py",
      "mimetype": "text/x-python",
      "name": "python",
      "nbconvert_exporter": "python",
      "pygments_lexer": "ipython3",
      "version": "3.8.13"
    },
    "colab": {
      "provenance": [],
      "include_colab_link": true
    }
  },
  "nbformat": 4,
  "nbformat_minor": 5
}